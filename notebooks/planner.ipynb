{
 "cells": [
  {
   "cell_type": "markdown",
   "metadata": {},
   "source": [
    "# Our website!!!\n",
    "\n",
    "We'll be using mkdocs for the time being until we get our Django site up and running.\n",
    "\n",
    "## The plan\n",
    "\n",
    "We'll be writing posts our adding to our website every night for a half-hour. Below is our plans:\n",
    "\n",
    "1. index.md: Have to write an intro to our site\n",
    "2. blog posts\n",
    "    * list comps and generators\n",
    "3. House keeping and changelog\n",
    "4. Fathom\n",
    "    * Figure out how to add fathom to track everything!"
   ]
  }
 ],
 "metadata": {
  "kernelspec": {
   "display_name": "Python 3",
   "language": "python",
   "name": "python3"
  },
  "language_info": {
   "codemirror_mode": {
    "name": "ipython",
    "version": 3
   },
   "file_extension": ".py",
   "mimetype": "text/x-python",
   "name": "python",
   "nbconvert_exporter": "python",
   "pygments_lexer": "ipython3",
   "version": "3.8.0"
  }
 },
 "nbformat": 4,
 "nbformat_minor": 4
}
